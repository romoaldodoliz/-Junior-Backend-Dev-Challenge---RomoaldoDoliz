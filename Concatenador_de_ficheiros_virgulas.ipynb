{
  "nbformat": 4,
  "nbformat_minor": 0,
  "metadata": {
    "colab": {
      "provenance": [],
      "include_colab_link": true
    },
    "kernelspec": {
      "name": "python3",
      "display_name": "Python 3"
    },
    "language_info": {
      "name": "python"
    }
  },
  "cells": [
    {
      "cell_type": "markdown",
      "metadata": {
        "id": "view-in-github",
        "colab_type": "text"
      },
      "source": [
        "<a href=\"https://colab.research.google.com/github/romoaldodoliz/-Junior-Backend-Dev-Challenge---RomoaldoDoliz/blob/main/Concatenador_de_ficheiros_virgulas.ipynb\" target=\"_parent\"><img src=\"https://colab.research.google.com/assets/colab-badge.svg\" alt=\"Open In Colab\"/></a>"
      ]
    },
    {
      "cell_type": "code",
      "source": [
        "#imports\n",
        "import os"
      ],
      "metadata": {
        "id": "hLAavhyy2sQm"
      },
      "execution_count": null,
      "outputs": []
    },
    {
      "cell_type": "code",
      "execution_count": null,
      "metadata": {
        "id": "YJEPEvK7y2Tq"
      },
      "outputs": [],
      "source": [
        "def separar_linhas_com_virgula_e_remover_nova_linha(arquivo):\n",
        "    # Abrir arquivo para leitura\n",
        "    with open(arquivo, \"r\") as file:\n",
        "        # Ler as linhas do arquivo e remover caracteres de nova linha\n",
        "        linhas = [linha.strip() for linha in file.readlines()]\n",
        "        \n",
        "        # Usar join() para unir as linhas em uma string separada por vírgulas\n",
        "        linhas_com_virgula = \",\".join(linhas)\n",
        "        \n",
        "        # Retornar a string com as linhas separadas por vírgulas\n",
        "        return linhas_com_virgula\n"
      ]
    },
    {
      "cell_type": "code",
      "source": [
        " separar_linhas_com_virgula_e_remover_nova_linha('BEIRA.txt')"
      ],
      "metadata": {
        "colab": {
          "base_uri": "https://localhost:8080/",
          "height": 105
        },
        "id": "ev8Oq3KkzhfF",
        "outputId": "72b8de13-7b6a-4877-bc32-78b0cf76d3b1"
      },
      "execution_count": null,
      "outputs": [
        {
          "output_type": "execute_result",
          "data": {
            "text/plain": [
              "'826525902,822935924,825077970,822159193,827173324,821521107,821046423,828870330,826425731,827844714,825249325,824339088,822623270,826399578,827244220,825187072,833155707,821435214,824916494,822160170,829049455,825114810,833214141,833418187,833618793,833310779,821945706,833553227,833323874,826968060,827425791,827861156,828114900,828028850,828430100,824045712,833143743,822603102,828188149,825044384'"
            ],
            "application/vnd.google.colaboratory.intrinsic+json": {
              "type": "string"
            }
          },
          "metadata": {},
          "execution_count": 18
        }
      ]
    },
    {
      "cell_type": "code",
      "source": [
        "# Obter caminho da pasta local\n",
        "dir_path = os.getcwd()\n",
        "\n",
        "# Lista de nomes de arquivo na pasta local\n",
        "file_list = os.listdir(dir_path)\n",
        "\n",
        "# Abrir novo arquivo para escrita\n",
        "output_file = open(\"concatenated.txt\", \"w\")\n",
        "\n",
        "# Percorrer lista de nomes de arquivo\n",
        "for file_name in file_list:\n",
        "    # Abrir arquivo individual\n",
        "    if(file_name not in ['concatenated.txt','sample_data', '.config'] ) :\n",
        "      file_path = '/content/' + file_name\n",
        "      print(file_path)\n",
        "      input_file = open(file_path, \"r\")\n",
        "      # Ler dados do arquivo individual\n",
        "      file_data = input_file.read()\n",
        "      \n",
        "      #Eliminar \n",
        "      file_data_removed = [linha.strip() for linha in file_data.splitlines()]\n",
        "      linhas_com_virgula = \",\".join(file_data_removed)\n",
        "      # Escrever dados no arquivo de saída\n",
        "      output_file.write(linhas_com_virgula)\n",
        "      \n",
        "      # Fechar arquivo individual\n",
        "      input_file.close()\n",
        "\n",
        "# Fechar arquivo de saída\n",
        "output_file.close()\n"
      ],
      "metadata": {
        "colab": {
          "base_uri": "https://localhost:8080/"
        },
        "id": "rxdkMvnP2pIN",
        "outputId": "5b940a6d-40f5-4e01-aefe-0ab6d86ac43c"
      },
      "execution_count": null,
      "outputs": [
        {
          "output_type": "stream",
          "name": "stdout",
          "text": [
            "/content/QUELIMANE.txt\n",
            "/content/DONDO.txt\n",
            "/content/MOCUBA.txt\n",
            "/content/GURUE.txt\n",
            "/content/BEIRA.txt\n"
          ]
        }
      ]
    }
  ]
}